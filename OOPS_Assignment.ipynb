{
  "nbformat": 4,
  "nbformat_minor": 0,
  "metadata": {
    "colab": {
      "provenance": []
    },
    "kernelspec": {
      "name": "python3",
      "display_name": "Python 3"
    },
    "language_info": {
      "name": "python"
    }
  },
  "cells": [
    {
      "cell_type": "markdown",
      "source": [
        "**THEORY QUESTIONS**\n",
        "\n",
        "---\n",
        "\n"
      ],
      "metadata": {
        "id": "ei5t6KEAcErC"
      }
    },
    {
      "cell_type": "markdown",
      "source": [
        "1. What is Object-Oriented Programming (OOP).\n",
        "> Object-Oriented Programming (OOP) is a programming paradigm centered around the concept of \"objects,\" which can contain both data (attributes) and code that operates on that data (methods). Instead of focusing on procedures or functions, OOP organizes software design by grouping related data and behavior into objects. Key principles of OOP include encapsulation (bundling data and methods), inheritance (allowing new objects to inherit properties from existing ones), and polymorphism (allowing objects of different classes to respond to the same method call in their own way), all aimed at creating more modular, reusable, and maintainable code."
      ],
      "metadata": {
        "id": "fD_WyOeIcPUo"
      }
    },
    {
      "cell_type": "markdown",
      "source": [
        "2. What is a class in OOP?\n",
        "> It defines the characteristics (data, often called attributes or properties) and the behaviors (actions or functions, known as methods) that objects of that class will possess. So, a class itself isn't a tangible thing, but it describes what an object of that type will look like and what it can do."
      ],
      "metadata": {
        "id": "4FOvfP4kclH5"
      }
    },
    {
      "cell_type": "markdown",
      "source": [
        "3. What is an object in OOP?\n",
        "> An object in OOP is a specific instance of a class. It's a concrete entity that exists in memory and has the characteristics and behaviors defined by its class. Using our Car class example, a specific red Toyota Camry with a current speed of 60 km/h would be an object of the Car class. It has the attributes (color: red, model: Camry, speed: 60) and can perform the actions (start, accelerate, brake) defined in the Car class. Essentially, the class is the plan, and the object is the actual thing built from that plan."
      ],
      "metadata": {
        "id": "MHJ7xdXGc29o"
      }
    },
    {
      "cell_type": "markdown",
      "source": [
        "4.  What is the difference between abstraction and encapsulation?\n",
        "> Abstraction focuses on what an object does by hiding complex implementation details and showing only essential information to the user. Encapsulation, on the other hand, focuses on how an object manages its data by bundling the data (attributes) and the methods that operate on that data, and controlling access to the internal data to prevent direct, unauthorized modification. Think of abstraction as showing you the steering wheel and pedals of a car (what you interact with), while encapsulation is like the engine and internal mechanics being hidden under the hood (how it works and is protected)."
      ],
      "metadata": {
        "id": "E8zBm7LPdAIY"
      }
    },
    {
      "cell_type": "markdown",
      "source": [
        "5. What are dunder methods in Python?\n",
        "> These are special methods that have double underscores (dunders) both at the beginning and at the end of their names, like __init__ or __str__. They are also sometimes called \"magic methods\" because they provide a way to implement functionality that is not directly invoked but is called by Python's interpreter in specific situations."
      ],
      "metadata": {
        "id": "SbrMrWaVdTMw"
      }
    },
    {
      "cell_type": "markdown",
      "source": [
        "6.  Explain the concept of inheritance in OOP.\n",
        "> Inheritance in OOP is a powerful mechanism that allows a new class (called the subclass or derived class) to inherit properties and behaviors from an existing class (called the superclass or base class).\n",
        "\n",
        "  \n",
        "It promotes code reuse and helps in creating a hierarchy of classes, making the code more organized, maintainable, and reflecting real-world relationships more accurately. You don't have to rewrite common functionalities; you can build upon existing ones and extend them for specific needs."
      ],
      "metadata": {
        "id": "S5DEarKndk_B"
      }
    },
    {
      "cell_type": "markdown",
      "source": [
        "7.  What is polymorphism in OOP?\n",
        "> Polymorphism, which literally means \"many forms,\" is a core concept in OOP that allows objects of different classes to respond to the same method call in their own specific way. It's like having a single interface that can work with various underlying implementations."
      ],
      "metadata": {
        "id": "WlelAUwNd_UY"
      }
    },
    {
      "cell_type": "markdown",
      "source": [
        "8. How is encapsulation achieved in Python?\n",
        ">  In Python, encapsulation is primarily achieved through naming conventions rather than strict access modifiers. A single leading underscore (_variable or _method) suggests that an attribute or method is intended for internal use within the class and should not be directly accessed or modified from outside. A double leading underscore triggers name mangling, making it harder to access the attribute or method from outside the class, further reinforcing the idea of internal implementation details. These conventions encourage developers to interact with an object's data through its methods, thus controlling access and maintaining the object's state."
      ],
      "metadata": {
        "id": "bEG-SaRxeLiQ"
      }
    },
    {
      "cell_type": "markdown",
      "source": [
        "9.  What is a constructor in Python?\n",
        "> A constructor is a special method within a class called __init__. This method is automatically called when you create a new object (an instance) of that class. Its primary purpose is to initialize the object's attributes (data)."
      ],
      "metadata": {
        "id": "zUUknCJDehvg"
      }
    },
    {
      "cell_type": "markdown",
      "source": [
        "10. What are class and static methods in Python/\n",
        ">  Class methods and static methods are special types of methods bound to a class rather than to a specific instance of the class. A class method is defined using the @classmethod decorator and takes cls as its first argument, which automatically refers to the class itself. This allows the method to access and modify class-level attributes or call other class methods. They are often used as factory methods to create instances of the class in a controlled way.\n",
        "\n",
        "> A static method is defined using the @staticmethod decorator and doesn't take self or cls as its first argument. It's essentially a regular function that belongs to the class's namespace because it has a logical connection to the class. Static methods cannot access or modify class-specific or instance-specific data directly. They are useful for utility functions that are related to the class but don't need access to its internal state."
      ],
      "metadata": {
        "id": "2RMjFn7wetH4"
      }
    },
    {
      "cell_type": "markdown",
      "source": [
        "11. What is method overloading in Python?\n",
        "> Method overloading in OOP refers to the ability of a class to have multiple methods with the same name but different parameters (either in the number or types of arguments). However, Python does not directly support traditional method overloading in the way some other languages like Java or C++ do."
      ],
      "metadata": {
        "id": "G2n5UsFBfGsY"
      }
    },
    {
      "cell_type": "markdown",
      "source": [
        "12. What is method overriding in OOP?\n",
        "> Method overriding in OOP occurs when a subclass (derived class) provides a specific implementation for a method that is already defined in its superclass. When you call this overridden method on an object of the subclass, the subclass's version of the method is executed instead of the superclass's version."
      ],
      "metadata": {
        "id": "--qQn2t6fWWo"
      }
    },
    {
      "cell_type": "markdown",
      "source": [
        "13. What is a property decorator in Python?\n",
        "> The @property decorator in Python is a built-in feature that allows you to define methods in your class that can be accessed like attributes. It provides a way to implement getter, setter, and deleter methods for an attribute while presenting a clean and attribute-like interface to the user of your class.\n",
        "It helps you encapsulate attribute access and modification logic. Instead of directly accessing an attribute"
      ],
      "metadata": {
        "id": "d6yc8V2ifg_Y"
      }
    },
    {
      "cell_type": "markdown",
      "source": [
        "14. Why is polymorphism important in OOP?\n",
        "> Polymorphism is crucial in OOP because it significantly enhances code flexibility, reusability, and maintainability. For example, you can find volume of a shape easily with polymorphism."
      ],
      "metadata": {
        "id": "RBPmHqTCfucg"
      }
    },
    {
      "cell_type": "markdown",
      "source": [
        "15. What is an abstract class in Python?\n",
        ">  An abstract class in Python is a class that cannot be instantiated directly. Its primary purpose is to serve as a blueprint for other classes (its subclasses). It can contain abstract methods, which are methods declared but without any implementation in the abstract class. Subclasses inheriting from an abstract class are then required to provide concrete implementations for these abstract methods."
      ],
      "metadata": {
        "id": "wQbQv-7YgHcY"
      }
    },
    {
      "cell_type": "markdown",
      "source": [
        "16.  What are the advantages of OOP?\n",
        "> Object-Oriented Programming (OOP) offers several significant advantages that contribute to better software development practices.\n",
        "\n",
        ">Modularity is enhanced as objects encapsulate data and behavior, making code easier to understand, organize, and maintain. Reusability is promoted through inheritance, allowing new classes to be built upon existing ones, reducing code duplication and development time.\n",
        "\n",
        ">Flexibility is achieved through polymorphism, enabling objects of different classes to be treated uniformly. Abstraction simplifies complex systems by hiding unnecessary implementation details.\n",
        "\n",
        ">Furthermore, OOP often leads to more robust and scalable applications that better model real-world entities, making them easier to extend and adapt to changing requirements."
      ],
      "metadata": {
        "id": "53DvB-S5gQp6"
      }
    },
    {
      "cell_type": "markdown",
      "source": [
        "17. What is the difference between a class variable and an instance variable?\n",
        "> A class variable is defined within the class but outside of any instance methods (like __init__). It is shared by all instances (objects) of that class. There is only one copy of a class variable, and when one instance modifies it, the change is reflected in all other instances of the same class. Class variables are often used to store information that is common to all objects of a class, such as default values or constants.\n",
        "\n",
        "  > An instance variable is defined inside instance methods, typically within the __init__ method, and is specific to each individual object (instance) of the class. Each instance gets its own separate copy of the instance variables. Changes made to an instance variable in one object do not affect the instance variables of other objects of the same class. Instance variables hold the unique data that distinguishes one object from another."
      ],
      "metadata": {
        "id": "g2PS9ZRcgo-3"
      }
    },
    {
      "cell_type": "markdown",
      "source": [
        "18. What is multiple inheritance in Python?\n",
        "> Multiple inheritance in Python is a feature that allows a class to inherit attributes and methods from more than one parent class. 1  This means a single derived class can combine the functionalities of several different base classes."
      ],
      "metadata": {
        "id": "-9_MLFQSg-Na"
      }
    },
    {
      "cell_type": "markdown",
      "source": [
        "19. Explain the purpose of ‘’__str__’ and ‘__repr__’ ‘ methods in Python.\n",
        "> __str__(self): This method is intended to provide a human-readable, informal string representation of an object. It's what you see when you use the str() function on an object or when you print() an object. The goal is to be easily understandable by end-users or for logging purposes. If a class doesn't define __str__, Python will fall back to using the representation provided by __repr__.\n",
        "\n",
        "  > __repr__(self): This method aims to provide an unambiguous and information-rich string representation of an object. Ideally, the string returned by __repr__ should give enough information so that you could recreate the object if needed (e.g., by copying and pasting it into the Python interpreter). It's primarily for developers and debugging. If a class defines __repr__ but not __str__, the __repr__ output will be used in all contexts where a string representation is needed. It's generally considered good practice to at least define __repr__ for your classes."
      ],
      "metadata": {
        "id": "noEOe3Z6hPOo"
      }
    },
    {
      "cell_type": "markdown",
      "source": [
        "20. What is the significance of the ‘super()’ function in Python/\n",
        ">  The super() function in Python is a crucial tool for working with inheritance, especially in class hierarchies involving method overriding. Its primary significance lies in providing a way for a subclass to call methods from its superclass in a way that is robust and maintains the integrity of multiple inheritance scenarios. When you override a method in a subclass, super() allows you to invoke the original implementation of that method from the superclass, often to extend its functionality rather than completely replace it. This promotes code reuse and avoids redundancy. Furthermore, in complex inheritance structures, particularly with multiple inheritance, super() ensures that methods in the inheritance hierarchy are called in the correct order according to the method resolution order (MRO), preventing issues that can arise from directly calling the superclass method by name. This makes your code more maintainable and less prone to errors when dealing with intricate class relationships."
      ],
      "metadata": {
        "id": "FmlGfzd3h0o4"
      }
    },
    {
      "cell_type": "markdown",
      "source": [
        "21. What is the significance of the __del__ method in Python?\n",
        ">  The __del__ method in Python is a special method that is called when an object is about to be garbage collected, meaning it's no longer being referenced and the system is reclaiming its memory. Its significance lies in providing a last opportunity for the object to perform any necessary cleanup operations before it's destroyed. This might include releasing external resources like open files, network connections, or database cursors that the object was holding. However, it's important to note that the __del__ method is not guaranteed to be called immediately when an object becomes unreferenced, and in some cases (like circular references), it might not be called at all. Due to this unpredictability and potential complexities, it's generally recommended to rely on more explicit mechanisms for resource management, such as try...finally blocks or context managers (with statement), rather than depending heavily on __del__ for critical cleanup tasks."
      ],
      "metadata": {
        "id": "CShuVlLwiBkA"
      }
    },
    {
      "cell_type": "markdown",
      "source": [
        "22. What is the difference between @staticmethod and @classmethod in Python?\n",
        "> @staticmethod: A static method is essentially a regular function that happens to live within the namespace of a class. It does not receive any implicit first argument (neither the instance self nor the class cls). Because of this, a static method cannot access or modify the state of the instance or the class directly. It's used for utility functions that are logically related to the class but don't need to interact with its specific instances or class-level data.\n",
        "\n",
        "  >@classmethod: A class method, on the other hand, receives the class itself as the first implicit argument, conventionally named cls. This allows the class method to access and modify class-level attributes and call other class methods. Class methods are often used as factory methods (to create instances of the class in a controlled way) or for operations that need to be performed at the class level."
      ],
      "metadata": {
        "id": "pq-62VpRiKkH"
      }
    },
    {
      "cell_type": "markdown",
      "source": [
        "23.  How does polymorphism work in Python with inheritance?\n",
        "> Polymorphism works seamlessly with inheritance in Python by allowing you to treat objects of different classes that are related through inheritance in a uniform way. Here's how it unfolds:\n",
        "\n",
        "\n",
        ">Base Class Defines a Method: A superclass defines a method that represents a general action or concept. For example, a Shape class might have a calculate_area() method.\n",
        "\n",
        "\n",
        ">Subclasses Inherit and Override: Subclasses that inherit from the base class can then provide their own specific implementations of this method. For instance, Circle, Square, and Triangle classes, all inheriting from Shape, would each have their own unique way of calculating their area within their respective calculate_area() methods. This is method overriding.\n",
        "\n",
        "\n",
        ">Uniform Interface: Because these subclasses inherit from the same base class and override the common method, you can write code that interacts with objects of these different subclasses through the interface defined by the base class. You don't need to know the specific type of shape you're dealing with.\n",
        "\n",
        "\n",
        ">Dynamic Dispatch: When you call the calculate_area() method on an object, Python dynamically determines the actual type of the object at runtime and executes the corresponding implementation defined in that object's class. This is known as dynamic dispatch or late binding."
      ],
      "metadata": {
        "id": "EQz8e4fjiYGQ"
      }
    },
    {
      "cell_type": "markdown",
      "source": [
        "24. What is method chaining in Python OOP?\n",
        "> Method chaining in Python OOP is a technique where you can call multiple methods on the same object in a sequential manner, with each method call (except the last) returning the object itself. This allows for a more concise and readable way to perform a series of operations on an object."
      ],
      "metadata": {
        "id": "5jGyE8hwirXg"
      }
    },
    {
      "cell_type": "markdown",
      "source": [
        "25. What is the purpose of the __call__ method in Python?\n",
        "> __call__ is to enable objects to have function-like behavior. This can be particularly useful in situations where you want to encapsulate some state or have more control over the execution logic compared to a simple function. The __call__ method can take any number of arguments, just like a regular function, and its return value is what you get when you \"call\" the object."
      ],
      "metadata": {
        "id": "NHbdzFs-i6DA"
      }
    },
    {
      "cell_type": "markdown",
      "source": [
        "**PRACTICAL QUESTIONS**\n",
        "\n",
        "---\n",
        "\n"
      ],
      "metadata": {
        "id": "53tBHUrCjD6n"
      }
    },
    {
      "cell_type": "code",
      "source": [
        "'''1. Create a parent class Animal with a method speak() that prints a generic message. Create a child class Dog\n",
        "that overrides the speak() method to print \"Bark!\".'''\n",
        "class A:\n",
        "    def speak(self):\n",
        "        print(\"Generic animal sound\")\n",
        "\n",
        "class Dog(A):\n",
        "    def speak(self):\n",
        "        print(\"Bark!\")\n",
        "animal = A()\n",
        "dog = Dog()\n",
        "\n",
        "animal.speak()\n",
        "dog.speak()"
      ],
      "metadata": {
        "colab": {
          "base_uri": "https://localhost:8080/"
        },
        "id": "5cTgIylKjW35",
        "outputId": "ca3b10bc-d8c1-4640-eb92-ffcf3cb1daa0"
      },
      "execution_count": null,
      "outputs": [
        {
          "output_type": "stream",
          "name": "stdout",
          "text": [
            "Generic animal sound\n",
            "Bark!\n"
          ]
        }
      ]
    },
    {
      "cell_type": "code",
      "source": [
        "'''2. Write a program to create an abstract class Shape with a method area(). Derive classes Circle and Rectangle\n",
        "from it and implement the area() method in both.'''\n",
        "from abc import ABC, abstractmethod\n",
        "\n",
        "class Shape(ABC):\n",
        "    @abstractmethod\n",
        "    def area(self):\n",
        "        pass\n",
        "\n",
        "class Circle(Shape):\n",
        "    def __init__(self, radius):\n",
        "        self.radius = radius\n",
        "\n",
        "    def area(self):\n",
        "        return 3.14159 * self.radius * self.radius\n",
        "\n",
        "class Rectangle(Shape):\n",
        "    def __init__(self, length, width):\n",
        "        self.length = length\n",
        "        self.width = width\n",
        "\n",
        "    def area(self):\n",
        "        return self.length * self.width\n",
        "\n",
        "c = Circle(5)\n",
        "r = Rectangle(4, 6)\n",
        "\n",
        "print(c.area())\n",
        "print(r.area())"
      ],
      "metadata": {
        "colab": {
          "base_uri": "https://localhost:8080/"
        },
        "id": "zbjEF1or6a7w",
        "outputId": "12f29b26-a087-47f4-f9f6-d97157a10a55"
      },
      "execution_count": null,
      "outputs": [
        {
          "output_type": "stream",
          "name": "stdout",
          "text": [
            "78.53975\n",
            "24\n"
          ]
        }
      ]
    },
    {
      "cell_type": "code",
      "source": [
        "'''3.Implement a multi-level inheritance scenario where a class Vehicle has an attribute type. Derive a class Car\n",
        "and further derive a class ElectricCar that adds a battery attribute.'''\n",
        "from abc import ABC, abstractmethod\n",
        "\n",
        "class Vehicle:\n",
        "    def __init__(self, vehicle_type):\n",
        "        self.vehicle_type = vehicle_type\n",
        "\n",
        "class Car(Vehicle):\n",
        "    def __init__(self, vehicle_type, model):\n",
        "        super().__init__(vehicle_type)\n",
        "        self.model = model\n",
        "\n",
        "class ElectricCar(Car):\n",
        "    def __init__(self, vehicle_type, model, battery_capacity):\n",
        "        super().__init__(vehicle_type, model)\n",
        "        self.battery_capacity = battery_capacity\n",
        "\n",
        "ev = ElectricCar(\"Electric\", \"Tesla Model 3\", \"75 kWh\")\n",
        "print(ev.vehicle_type, ev.model, ev.battery_capacity)"
      ],
      "metadata": {
        "colab": {
          "base_uri": "https://localhost:8080/"
        },
        "id": "gshe_9Gs6tZo",
        "outputId": "4b4f3a7b-da52-463f-a523-784adee7a34a"
      },
      "execution_count": null,
      "outputs": [
        {
          "output_type": "stream",
          "name": "stdout",
          "text": [
            "Electric Tesla Model 3 75 kWh\n"
          ]
        }
      ]
    },
    {
      "cell_type": "code",
      "source": [
        "'''4. Demonstrate polymorphism by creating a base class Bird with a method fly(). Create two derived classes\n",
        "Sparrow and Penguin that override the fly() method.'''\n",
        "class Bird:\n",
        "    def fly(self):\n",
        "        print(\"Generic bird flight\")\n",
        "\n",
        "class Sparrow(Bird):\n",
        "    def fly(self):\n",
        "        print(\"Sparrow flying\")\n",
        "\n",
        "class Penguin(Bird):\n",
        "    def fly(self):\n",
        "        print(\"Penguin cannot fly\")\n",
        "\n",
        "def bird_fly(bird):\n",
        "    bird.fly()\n",
        "\n",
        "bird = Bird()\n",
        "sparrow = Sparrow()\n",
        "penguin = Penguin()\n",
        "\n",
        "bird_fly(bird)\n",
        "bird_fly(sparrow)\n",
        "bird_fly(penguin)\n",
        "\n"
      ],
      "metadata": {
        "colab": {
          "base_uri": "https://localhost:8080/"
        },
        "id": "89xbQpGs66Sp",
        "outputId": "bbcf9478-b045-4ee9-a434-2052a791d51d"
      },
      "execution_count": null,
      "outputs": [
        {
          "output_type": "stream",
          "name": "stdout",
          "text": [
            "Generic bird flight\n",
            "Sparrow flying\n",
            "Penguin cannot fly\n"
          ]
        }
      ]
    },
    {
      "cell_type": "code",
      "source": [
        "'''5. Write a program to demonstrate encapsulation by creating a class BankAccount with private attributes\n",
        "balance and methods to deposit, withdraw, and check balance'''\n",
        "class BankAccount:\n",
        "    def __init__(self, initial_balance=0):\n",
        "        self.__balance = initial_balance  # Private attribute\n",
        "\n",
        "    def deposit(self, amount):\n",
        "        if amount > 0:\n",
        "            self.__balance += amount\n",
        "            print(f\"Deposited {amount}. New balance: {self.__balance}\")\n",
        "        else:\n",
        "            print(\"Invalid deposit amount.\")\n",
        "\n",
        "    def withdraw(self, amount):\n",
        "        if 0 < amount <= self.__balance:\n",
        "            self.__balance -= amount\n",
        "            print(f\"Withdrew {amount}. New balance: {self.__balance}\")\n",
        "        else:\n",
        "            print(\"Invalid withdrawal amount or insufficient funds.\")\n",
        "\n",
        "    def check_balance(self):\n",
        "        print(f\"Current balance: {self.__balance}\")\n",
        "\n",
        "# Example usage:\n",
        "account = BankAccount(1000)  # Initialize with a balance of 1000\n",
        "account.check_balance()\n",
        "account.deposit(500)\n",
        "account.withdraw(200)\n",
        "account.check_balance()\n",
        "account.withdraw(1500)  # This will print an error message"
      ],
      "metadata": {
        "colab": {
          "base_uri": "https://localhost:8080/"
        },
        "id": "f__wn1Ez7Rwo",
        "outputId": "5e6c5a3a-33a7-4403-8bc5-68cdd146050a"
      },
      "execution_count": null,
      "outputs": [
        {
          "output_type": "stream",
          "name": "stdout",
          "text": [
            "Current balance: 1000\n",
            "Deposited 500. New balance: 1500\n",
            "Withdrew 200. New balance: 1300\n",
            "Current balance: 1300\n",
            "Invalid withdrawal amount or insufficient funds.\n"
          ]
        }
      ]
    },
    {
      "cell_type": "code",
      "source": [
        "'''6.  Demonstrate runtime polymorphism using a method play() in a base class Instrument. Derive classes Guitar\n",
        "and Piano that implement their own version of play().'''\n",
        "class Instrument:\n",
        "    def play(self):\n",
        "        print(\"Generic instrument playing\")\n",
        "\n",
        "class Guitar(Instrument):\n",
        "    def play(self):\n",
        "        print(\"Strumming the guitar\")\n",
        "\n",
        "class Piano(Instrument):\n",
        "    def play(self):\n",
        "        print(\"Playing the piano\")\n",
        "\n",
        "def instrument_play(instrument):\n",
        "    instrument.play()\n",
        "\n",
        "guitar = Guitar()\n",
        "piano = Piano()\n",
        "\n",
        "instrument_play(guitar)\n",
        "instrument_play(piano)"
      ],
      "metadata": {
        "colab": {
          "base_uri": "https://localhost:8080/"
        },
        "id": "TOOU3F3L7ktw",
        "outputId": "798509d8-6c6e-4984-b216-2405914bf451"
      },
      "execution_count": null,
      "outputs": [
        {
          "output_type": "stream",
          "name": "stdout",
          "text": [
            "Strumming the guitar\n",
            "Playing the piano\n"
          ]
        }
      ]
    },
    {
      "cell_type": "code",
      "source": [
        "'''7. Create a class MathOperations with a class method add_numbers() to add two numbers and a static\n",
        "method subtract_numbers() to subtract two numbers.'''\n",
        "class MathOperations:\n",
        "    @classmethod\n",
        "    def add_numbers(cls, x, y):\n",
        "        return x + y\n",
        "\n",
        "    @staticmethod\n",
        "    def subtract_numbers(x, y):\n",
        "        return x - y\n",
        "\n",
        "result_add = MathOperations.add_numbers(5, 3)\n",
        "result_subtract = MathOperations.subtract_numbers(5, 3)\n",
        "\n",
        "print(f\"Sum: {result_add}\")\n",
        "print(f\"Difference: {result_subtract}\")"
      ],
      "metadata": {
        "colab": {
          "base_uri": "https://localhost:8080/"
        },
        "id": "DXzrNYX-7yjA",
        "outputId": "83bef444-aa38-47d3-f2f0-b007d03f3cd3"
      },
      "execution_count": null,
      "outputs": [
        {
          "output_type": "stream",
          "name": "stdout",
          "text": [
            "Sum: 8\n",
            "Difference: 2\n"
          ]
        }
      ]
    },
    {
      "cell_type": "code",
      "source": [
        "'''8.  Implement a class Person with a class method to count the total number of persons created.'''\n",
        "class Person:\n",
        "    _person_count = 0  # Class variable to count persons\n",
        "\n",
        "    def __init__(self, name):\n",
        "        self.name = name\n",
        "        Person._person_count += 1  # Increment the count\n",
        "\n",
        "    @classmethod\n",
        "    def get_person_count(cls):\n",
        "        return cls._person_count\n",
        "\n",
        "# Example usage\n",
        "person1 = Person(\"Alice\")\n",
        "person2 = Person(\"Bob\")\n",
        "person3 = Person(\"Charlie\")\n",
        "\n",
        "print(f\"Total number of persons created: {Person.get_person_count()}\")"
      ],
      "metadata": {
        "colab": {
          "base_uri": "https://localhost:8080/"
        },
        "id": "C7j8xWc179Bx",
        "outputId": "ea1d1e7f-8c4f-47f0-9a92-de20f0f373a1"
      },
      "execution_count": null,
      "outputs": [
        {
          "output_type": "stream",
          "name": "stdout",
          "text": [
            "Total number of persons created: 3\n"
          ]
        }
      ]
    },
    {
      "cell_type": "code",
      "source": [
        "'''9. Write a class Fraction with attributes numerator and denominator. Override the str method to display the\n",
        "fraction as \"numerator/denominator\".'''\n",
        "class Fraction:\n",
        "    def __init__(self, numerator, denominator):\n",
        "        if denominator == 0:\n",
        "            raise ValueError(\"Denominator cannot be zero\")\n",
        "        self.numerator = numerator\n",
        "        self.denominator = denominator\n",
        "\n",
        "    def __str__(self):\n",
        "        return f\"{self.numerator}/{self.denominator}\"\n",
        "\n",
        "\n",
        "fraction1 = Fraction(3, 4)\n",
        "fraction2 = Fraction(5, 7)\n",
        "\n",
        "print(fraction1)\n",
        "print(fraction2)"
      ],
      "metadata": {
        "colab": {
          "base_uri": "https://localhost:8080/"
        },
        "id": "SxO19QQZ8GuT",
        "outputId": "7fee336b-3605-4e65-8aec-c7806e672f4b"
      },
      "execution_count": null,
      "outputs": [
        {
          "output_type": "stream",
          "name": "stdout",
          "text": [
            "3/4\n",
            "5/7\n"
          ]
        }
      ]
    },
    {
      "cell_type": "code",
      "source": [
        "'''10. Demonstrate operator overloading by creating a class Vector and overriding the add method to add two\n",
        "vectors.'''\n",
        "class Vector:\n",
        "    def __init__(self, x, y):\n",
        "        self.x = x\n",
        "        self.y = y\n",
        "\n",
        "    def __add__(self, other):\n",
        "        if not isinstance(other, Vector):\n",
        "            return NotImplemented\n",
        "        return Vector(self.x + other.x, self.y + other.y)\n",
        "\n",
        "    def __str__(self):\n",
        "        return f\"({self.x}, {self.y})\"\n",
        "\n",
        "v1 = Vector(2, 3)\n",
        "v2 = Vector(4, 5)\n",
        "v3 = v1 + v2\n",
        "print(v3)"
      ],
      "metadata": {
        "colab": {
          "base_uri": "https://localhost:8080/"
        },
        "id": "pNLIMDPj8XMI",
        "outputId": "c7412a26-6d9a-48f9-b66f-2ce084c86570"
      },
      "execution_count": null,
      "outputs": [
        {
          "output_type": "stream",
          "name": "stdout",
          "text": [
            "(6, 8)\n"
          ]
        }
      ]
    },
    {
      "cell_type": "code",
      "source": [
        "'''11.  Create a class Person with attributes name and age. Add a method greet() that prints \"Hello, my name is\n",
        "{name} and I am {age} years old.\" '''\n",
        "class Person:\n",
        "    def __init__(self, name, age):\n",
        "        self.name = name\n",
        "        self.age = age\n",
        "\n",
        "    def greet(self):\n",
        "        print(f\"Hello, my name is {self.name} and I am {self.age} years old.\")\n",
        "\n",
        "# Example Usage:\n",
        "person1 = Person(\"Alice\", 30)\n",
        "person2 = Person(\"Bob\", 25)\n",
        "\n",
        "person1.greet()\n",
        "person2.greet()"
      ],
      "metadata": {
        "colab": {
          "base_uri": "https://localhost:8080/"
        },
        "id": "Qxw9uxxJ9IRB",
        "outputId": "4dd8c9f4-dfec-4210-85f2-9092a4933691"
      },
      "execution_count": null,
      "outputs": [
        {
          "output_type": "stream",
          "name": "stdout",
          "text": [
            "Hello, my name is Alice and I am 30 years old.\n",
            "Hello, my name is Bob and I am 25 years old.\n"
          ]
        }
      ]
    },
    {
      "cell_type": "code",
      "source": [
        "''' 12.  Implement a class Student with attributes name and grades. Create a method average_grade() to compute\n",
        "the average of the grades. '''\n",
        "class Student:\n",
        "    def __init__(self, name, grades):\n",
        "        self.name = name\n",
        "        self.grades = grades\n",
        "\n",
        "    def average_grade(self):\n",
        "        if not self.grades:\n",
        "            return 0\n",
        "        return sum(self.grades) / len(self.grades)\n",
        "student1 = Student(\"Alice\", [90, 85, 92, 78])\n",
        "student2 = Student(\"Bob\", [76, 88, 80, 95])\n",
        "\n",
        "print(f\"{student1.name}'s average grade: {student1.average_grade()}\")\n",
        "print(f\"{student2.name}'s average grade: {student2.average_grade()}\")"
      ],
      "metadata": {
        "colab": {
          "base_uri": "https://localhost:8080/"
        },
        "id": "yeHuS1Ex_u6Y",
        "outputId": "11a8a46c-4642-4b61-a423-6209f2c29cb4"
      },
      "execution_count": null,
      "outputs": [
        {
          "output_type": "stream",
          "name": "stdout",
          "text": [
            "Alice's average grade: 86.25\n",
            "Bob's average grade: 84.75\n"
          ]
        }
      ]
    },
    {
      "cell_type": "code",
      "source": [
        "''' 13. . Create a class Rectangle with methods set_dimensions() to set the dimensions and area() to calculate the\n",
        "area. '''\n",
        "class Rectangle:\n",
        "    def __init__(self):\n",
        "        self.length = 0\n",
        "        self.width = 0\n",
        "\n",
        "    def set_dimensions(self, length, width):\n",
        "        if length > 0 and width > 0:\n",
        "            self.length = length\n",
        "            self.width = width\n",
        "        else:\n",
        "            print(\"Invalid dimensions. Length and width must be positive.\")\n",
        "\n",
        "    def area(self):\n",
        "        return self.length * self.width\n",
        "\n",
        "rectangle1 = Rectangle()\n",
        "rectangle1.set_dimensions(5, 10)\n",
        "print(f\"Area of rectangle1: {rectangle1.area()}\")\n",
        "\n",
        "rectangle2 = Rectangle()\n",
        "rectangle2.set_dimensions(0, 8)  # Invalid dimensions\n",
        "rectangle2.set_dimensions(7, 3)\n",
        "print(f\"Area of rectangle2: {rectangle2.area()}\")"
      ],
      "metadata": {
        "colab": {
          "base_uri": "https://localhost:8080/"
        },
        "id": "mMXTyf61_-DQ",
        "outputId": "2a3f899f-bb26-4036-dea4-1555981f6903"
      },
      "execution_count": null,
      "outputs": [
        {
          "output_type": "stream",
          "name": "stdout",
          "text": [
            "Area of rectangle1: 50\n",
            "Invalid dimensions. Length and width must be positive.\n",
            "Area of rectangle2: 21\n"
          ]
        }
      ]
    },
    {
      "cell_type": "code",
      "source": [
        "'''14.  Create a class Employee with a method calculate_salary() that computes the salary based on hours worked\n",
        "and hourly rate. Create a derived class Manager that adds a bonus to the salary. '''\n",
        "class Employee:\n",
        "    def __init__(self, name, hourly_rate, hours_worked):\n",
        "        self.name = name\n",
        "        self.hourly_rate = hourly_rate\n",
        "        self.hours_worked = hours_worked\n",
        "\n",
        "    def calculate_salary(self):\n",
        "        return self.hourly_rate * self.hours_worked\n",
        "\n",
        "class Manager(Employee):\n",
        "    def __init__(self, name, hourly_rate, hours_worked, bonus):\n",
        "        super().__init__(name, hourly_rate, hours_worked)\n",
        "        self.bonus = bonus\n",
        "\n",
        "    def calculate_salary(self):\n",
        "        return super().calculate_salary() + self.bonus\n",
        "\n",
        "employee1 = Employee(\"Alice\", 20, 40)\n",
        "manager1 = Manager(\"Bob\", 30, 40, 500)\n",
        "\n",
        "print(f\"{employee1.name}'s salary: ${employee1.calculate_salary()}\")\n",
        "print(f\"{manager1.name}'s salary: ${manager1.calculate_salary()}\")"
      ],
      "metadata": {
        "colab": {
          "base_uri": "https://localhost:8080/"
        },
        "id": "b2VzVpIDAK0x",
        "outputId": "8cc4e871-218c-4ee3-9a71-8d159c4c46df"
      },
      "execution_count": null,
      "outputs": [
        {
          "output_type": "stream",
          "name": "stdout",
          "text": [
            "Alice's salary: $800\n",
            "Bob's salary: $1700\n"
          ]
        }
      ]
    },
    {
      "cell_type": "code",
      "source": [
        "''' 15. Create a class Product with attributes name, price, and quantity. Implement a method total_price() that\n",
        "calculates the total price of the product. '''\n",
        "class Product:\n",
        "    def __init__(self, name, price, quantity):\n",
        "        self.name = name\n",
        "        self.price = price\n",
        "        self.quantity = quantity\n",
        "\n",
        "    def total_price(self):\n",
        "        return self.price * self.quantity\n",
        "\n",
        "product1 = Product(\"Laptop\", 1200, 5)\n",
        "product2 = Product(\"Mouse\", 25, 20)\n",
        "\n",
        "print(f\"Total price of {product1.name}: ${product1.total_price()}\")\n",
        "print(f\"Total price of {product2.name}: ${product2.total_price()}\")"
      ],
      "metadata": {
        "colab": {
          "base_uri": "https://localhost:8080/"
        },
        "id": "PK2NNfTyAZbh",
        "outputId": "ddbd0383-531c-4063-927f-96644697646e"
      },
      "execution_count": null,
      "outputs": [
        {
          "output_type": "stream",
          "name": "stdout",
          "text": [
            "Total price of Laptop: $6000\n",
            "Total price of Mouse: $500\n"
          ]
        }
      ]
    },
    {
      "cell_type": "code",
      "source": [
        "'''16.  Create a class Animal with an abstract method sound(). Create two derived classes Cow and Sheep that\n",
        "implement the sound() method. '''\n",
        "from abc import ABC, abstractmethod\n",
        "\n",
        "class Animal(ABC):\n",
        "    @abstractmethod\n",
        "    def sound(self):\n",
        "        pass\n",
        "\n",
        "class Cow(Animal):\n",
        "    def sound(self):\n",
        "        print(\"Cow says: Moo!\")\n",
        "\n",
        "class Sheep(Animal):\n",
        "    def sound(self):\n",
        "        print(\"Sheep says: Baa!\")\n",
        "\n",
        "cow = Cow()\n",
        "sheep = Sheep()\n",
        "\n",
        "cow.sound()\n",
        "sheep.sound()"
      ],
      "metadata": {
        "colab": {
          "base_uri": "https://localhost:8080/"
        },
        "id": "4yLkAtE4Aobo",
        "outputId": "b23b8c3e-4f3b-4a89-ba78-877733d7e22b"
      },
      "execution_count": null,
      "outputs": [
        {
          "output_type": "stream",
          "name": "stdout",
          "text": [
            "Cow says: Moo!\n",
            "Sheep says: Baa!\n"
          ]
        }
      ]
    },
    {
      "cell_type": "code",
      "source": [
        "''' 17. Create a class Book with attributes title, author, and year_published. Add a method get_book_info() that\n",
        "returns a formatted string with the book's details. '''\n",
        "class Book:\n",
        "    def __init__(self, title, author, year_published):\n",
        "        self.title = title\n",
        "        self.author = author\n",
        "        self.year_published = year_published\n",
        "\n",
        "    def get_book_info(self):\n",
        "        return f\"Title: {self.title}, Author: {self.author}, Year Published: {self.year_published}\"\n",
        "\n",
        "book1 = Book(\"The Lord of the Rings\", \"J.R.R. Tolkien\", 1954)\n",
        "book2 = Book(\"Pride and Prejudice\", \"Jane Austen\", 1813)\n",
        "\n",
        "print(book1.get_book_info())\n",
        "print(book2.get_book_info())"
      ],
      "metadata": {
        "colab": {
          "base_uri": "https://localhost:8080/"
        },
        "id": "ZndIi6LzA2jX",
        "outputId": "56a82123-66e5-4c15-f4d2-7d8fd6a30292"
      },
      "execution_count": null,
      "outputs": [
        {
          "output_type": "stream",
          "name": "stdout",
          "text": [
            "Title: The Lord of the Rings, Author: J.R.R. Tolkien, Year Published: 1954\n",
            "Title: Pride and Prejudice, Author: Jane Austen, Year Published: 1813\n"
          ]
        }
      ]
    },
    {
      "cell_type": "code",
      "source": [
        "''' 18. Create a class House with attributes address and price. Create a derived class Mansion that adds an\n",
        "attribute number_of_rooms. '''\n",
        "class House:\n",
        "    def __init__(self, address, price):\n",
        "        self.address = address\n",
        "        self.price = price\n",
        "\n",
        "class Mansion(House):\n",
        "    def __init__(self, address, price, number_of_rooms):\n",
        "        super().__init__(address, price)\n",
        "        self.number_of_rooms = number_of_rooms\n",
        "\n",
        "house1 = House(\"123 Main St\", 250000)\n",
        "mansion1 = Mansion(\"456 Luxury Ave\", 1500000, 10)\n",
        "\n",
        "print(f\"House Address: {house1.address}, Price: ${house1.price}\")\n",
        "print(f\"Mansion Address: {mansion1.address}, Price: ${mansion1.price}, Rooms: {mansion1.number_of_rooms}\")"
      ],
      "metadata": {
        "colab": {
          "base_uri": "https://localhost:8080/"
        },
        "id": "uxg55uLRBLjg",
        "outputId": "244dd110-eccc-4996-9ae2-fa652a60a2f3"
      },
      "execution_count": null,
      "outputs": [
        {
          "output_type": "stream",
          "name": "stdout",
          "text": [
            "House Address: 123 Main St, Price: $250000\n",
            "Mansion Address: 456 Luxury Ave, Price: $1500000, Rooms: 10\n"
          ]
        }
      ]
    }
  ]
}